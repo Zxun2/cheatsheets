{
 "cells": [
  {
   "cell_type": "markdown",
   "id": "d68d2c2f",
   "metadata": {},
   "source": [
    "# Python snippets"
   ]
  },
  {
   "cell_type": "markdown",
   "id": "0f5cac70",
   "metadata": {},
   "source": [
    "By Lee Zong Xun "
   ]
  },
  {
   "cell_type": "markdown",
   "id": "52feafa4",
   "metadata": {},
   "source": [
    "Code snippets are organized by topics and usually have a coherent flow to them.\n",
    "Topics covered (in Python): \n",
    "1. Numerical and graphical summaries\n",
    "2. Robust estimators\n",
    "3. Categorical Data Analysis\n",
    "4. Hypothesis Testing (One and two samples) \n",
    "5. Anova\n",
    "6. Regression Analysis\n",
    "7. Simulation\n",
    "8. Resampling"
   ]
  },
  {
   "cell_type": "markdown",
   "id": "f841f4c3",
   "metadata": {},
   "source": [
    "## Useful imports"
   ]
  },
  {
   "cell_type": "code",
   "execution_count": 2,
   "id": "61b6b4ab",
   "metadata": {},
   "outputs": [],
   "source": [
    "import pandas as pd\n",
    "import matplotlib.pyplot as plt\n",
    "import numpy as np\n",
    "import statistics as st\n",
    "import scipy.stats as scst\n",
    "import pylab\n",
    "import math\n",
    "import statsmodels.api as sm\n",
    "from statsmodels.formula.api import ols\n",
    "import seaborn as sns\n",
    "\n",
    "%matplotlib inline\n",
    "sns.set(style=\"darkgrid\") # make the plot (like histogram) has clearer looking"
   ]
  },
  {
   "cell_type": "markdown",
   "id": "c60de9ac",
   "metadata": {},
   "source": [
    "## Import data"
   ]
  },
  {
   "cell_type": "code",
   "execution_count": 3,
   "id": "8683fcc3",
   "metadata": {},
   "outputs": [
    {
     "data": {
      "text/html": [
       "<div>\n",
       "<style scoped>\n",
       "    .dataframe tbody tr th:only-of-type {\n",
       "        vertical-align: middle;\n",
       "    }\n",
       "\n",
       "    .dataframe tbody tr th {\n",
       "        vertical-align: top;\n",
       "    }\n",
       "\n",
       "    .dataframe thead th {\n",
       "        text-align: right;\n",
       "    }\n",
       "</style>\n",
       "<table border=\"1\" class=\"dataframe\">\n",
       "  <thead>\n",
       "    <tr style=\"text-align: right;\">\n",
       "      <th></th>\n",
       "      <th>color</th>\n",
       "      <th>spine</th>\n",
       "      <th>width</th>\n",
       "      <th>satell</th>\n",
       "      <th>weight</th>\n",
       "    </tr>\n",
       "  </thead>\n",
       "  <tbody>\n",
       "    <tr>\n",
       "      <th>0</th>\n",
       "      <td>3</td>\n",
       "      <td>3</td>\n",
       "      <td>28.3</td>\n",
       "      <td>8</td>\n",
       "      <td>3.050</td>\n",
       "    </tr>\n",
       "    <tr>\n",
       "      <th>1</th>\n",
       "      <td>4</td>\n",
       "      <td>3</td>\n",
       "      <td>22.5</td>\n",
       "      <td>0</td>\n",
       "      <td>1.550</td>\n",
       "    </tr>\n",
       "    <tr>\n",
       "      <th>2</th>\n",
       "      <td>2</td>\n",
       "      <td>1</td>\n",
       "      <td>26.0</td>\n",
       "      <td>9</td>\n",
       "      <td>2.300</td>\n",
       "    </tr>\n",
       "    <tr>\n",
       "      <th>3</th>\n",
       "      <td>4</td>\n",
       "      <td>3</td>\n",
       "      <td>24.8</td>\n",
       "      <td>0</td>\n",
       "      <td>2.100</td>\n",
       "    </tr>\n",
       "    <tr>\n",
       "      <th>4</th>\n",
       "      <td>4</td>\n",
       "      <td>3</td>\n",
       "      <td>26.0</td>\n",
       "      <td>4</td>\n",
       "      <td>2.600</td>\n",
       "    </tr>\n",
       "    <tr>\n",
       "      <th>...</th>\n",
       "      <td>...</td>\n",
       "      <td>...</td>\n",
       "      <td>...</td>\n",
       "      <td>...</td>\n",
       "      <td>...</td>\n",
       "    </tr>\n",
       "    <tr>\n",
       "      <th>168</th>\n",
       "      <td>4</td>\n",
       "      <td>3</td>\n",
       "      <td>26.1</td>\n",
       "      <td>3</td>\n",
       "      <td>2.750</td>\n",
       "    </tr>\n",
       "    <tr>\n",
       "      <th>169</th>\n",
       "      <td>4</td>\n",
       "      <td>3</td>\n",
       "      <td>29.0</td>\n",
       "      <td>4</td>\n",
       "      <td>3.275</td>\n",
       "    </tr>\n",
       "    <tr>\n",
       "      <th>170</th>\n",
       "      <td>2</td>\n",
       "      <td>1</td>\n",
       "      <td>28.0</td>\n",
       "      <td>0</td>\n",
       "      <td>2.625</td>\n",
       "    </tr>\n",
       "    <tr>\n",
       "      <th>171</th>\n",
       "      <td>5</td>\n",
       "      <td>3</td>\n",
       "      <td>27.0</td>\n",
       "      <td>0</td>\n",
       "      <td>2.625</td>\n",
       "    </tr>\n",
       "    <tr>\n",
       "      <th>172</th>\n",
       "      <td>3</td>\n",
       "      <td>2</td>\n",
       "      <td>24.5</td>\n",
       "      <td>0</td>\n",
       "      <td>2.000</td>\n",
       "    </tr>\n",
       "  </tbody>\n",
       "</table>\n",
       "<p>173 rows × 5 columns</p>\n",
       "</div>"
      ],
      "text/plain": [
       "     color  spine  width  satell  weight\n",
       "0        3      3   28.3       8   3.050\n",
       "1        4      3   22.5       0   1.550\n",
       "2        2      1   26.0       9   2.300\n",
       "3        4      3   24.8       0   2.100\n",
       "4        4      3   26.0       4   2.600\n",
       "..     ...    ...    ...     ...     ...\n",
       "168      4      3   26.1       3   2.750\n",
       "169      4      3   29.0       4   3.275\n",
       "170      2      1   28.0       0   2.625\n",
       "171      5      3   27.0       0   2.625\n",
       "172      3      2   24.5       0   2.000\n",
       "\n",
       "[173 rows x 5 columns]"
      ]
     },
     "execution_count": 3,
     "metadata": {},
     "output_type": "execute_result"
    }
   ],
   "source": [
    "data = pd.read_csv(r\"C:\\Users\\thend\\OneDrive\\Documents\\University\\Y2S1\\ST2137\\Data\\crab.csv\", sep=\",\")\n",
    "data = pd.DataFrame(data)\n",
    "# mimic attach in R\n",
    "for col in data.columns:\n",
    "    globals()[col] = data[col]\n",
    "    \n",
    "def summary(data): \n",
    "    print(\n",
    "        'min: ',min(data),\n",
    "        \"\\nQ1: \", np.quantile(data,0.25), \n",
    "        \"\\nmean: \", st.mean(data), \n",
    "        \"\\nQ2: \", st.median(data),  \n",
    "        \"\\nQ3: \", np.quantile(data, 0.75),  \n",
    "        \"\\nmax: \", max(data),\n",
    "        \"\\nrange: \", min(data), max(data),\n",
    "        \"\\nvar: \", st.variance(data), \n",
    "        \"\\nsd: \", st.stdev(data), \n",
    "        \"\\nIQR: \", scst.stats.iqr(data)\n",
    "    )\n",
    "    \n",
    "data.describe()\n",
    "data\n",
    "# summary(data[\"weight\"])"
   ]
  },
  {
   "cell_type": "markdown",
   "id": "b0f6cbed",
   "metadata": {},
   "source": [
    "## Write files"
   ]
  },
  {
   "cell_type": "code",
   "execution_count": 53,
   "id": "72813c31",
   "metadata": {},
   "outputs": [],
   "source": [
    "#  Write the file 'data' to a csv file called 'new_file'\n",
    "# data = pd.DataFrame(data)\n",
    "# data.to_csv(\"new_file.csv\")"
   ]
  },
  {
   "cell_type": "markdown",
   "id": "25e4b33c",
   "metadata": {},
   "source": [
    "## Dataframe Operations"
   ]
  },
  {
   "cell_type": "code",
   "execution_count": 54,
   "id": "fa908413",
   "metadata": {},
   "outputs": [],
   "source": [
    "# concat two dataframes along the columns, axis = 1\n",
    "y = pd.DataFrame([1 if num > 0 else 0 for num in data[\"satell\"]], columns=[\">1 satell\"])\n",
    "data_test = pd.concat([data, y], axis = 1)\n",
    "\n",
    "# select two columns out of n columns\n",
    "# data_text = pd.DataFrame(data_test, columns = ['id', '>1 satell'])\n",
    "\n",
    "# merge operates similar to JOIN. It joins two datasets on the specified column. \n",
    "# data_new = pd.merge(data, data_text, on = 'id')\n"
   ]
  },
  {
   "cell_type": "markdown",
   "id": "325a16b8",
   "metadata": {},
   "source": [
    "## Summarizing Data"
   ]
  },
  {
   "cell_type": "markdown",
   "id": "98062602",
   "metadata": {},
   "source": [
    "### Estimating sigma (MAD AND IQR)"
   ]
  },
  {
   "cell_type": "code",
   "execution_count": null,
   "id": "7ce87356",
   "metadata": {},
   "outputs": [],
   "source": [
    "# print(st.median(data_test.weight - st.median(data_test.weight)))\n",
    "print(scst.iqr(data_test.weight) / 1.35) \n",
    "print(st.stdev(data_test.weight))\n",
    "print(scst.median_abs_deviation(data_test.weight) * 1.4286) # THIS IS SIGMA!!! "
   ]
  },
  {
   "cell_type": "markdown",
   "id": "4406d05a",
   "metadata": {},
   "source": [
    "### Skew"
   ]
  },
  {
   "cell_type": "code",
   "execution_count": 57,
   "id": "4b2b2feb",
   "metadata": {},
   "outputs": [
    {
     "data": {
      "text/plain": [
       "0.32635061222277506"
      ]
     },
     "execution_count": 57,
     "metadata": {},
     "output_type": "execute_result"
    }
   ],
   "source": [
    "def skew(x):\n",
    "    n = len(x)\n",
    "    y = [0]*n\n",
    "    z = [0]*n\n",
    "    for i in range(n):\n",
    "        y[i] = (x[i] - st.mean(x))**2\n",
    "        z[i] = (x[i] - st.mean(x))**3    \n",
    "    m2 = st.mean(y)  \n",
    "    m3 = st.mean(z)\n",
    "    sk = (m3/pow(m2,3/2))*pow(n*(n-1),1/2)/(n-2)\n",
    "    return(sk)\n",
    "\n",
    "skew(data.width)"
   ]
  },
  {
   "cell_type": "markdown",
   "id": "5c865ca0",
   "metadata": {},
   "source": [
    "### Kurtosis"
   ]
  },
  {
   "cell_type": "code",
   "execution_count": 58,
   "id": "5a369e9b",
   "metadata": {},
   "outputs": [
    {
     "data": {
      "text/plain": [
       "0.2036680547696415"
      ]
     },
     "execution_count": 58,
     "metadata": {},
     "output_type": "execute_result"
    }
   ],
   "source": [
    "def kurt(x):\n",
    "    n = len(x)\n",
    "    y = [0]*n\n",
    "    z = [0]*n\n",
    "    for i in range(n):\n",
    "        y[i] = (x[i] - st.mean(x))**2\n",
    "        z[i] = (x[i] - st.mean(x))**4    \n",
    "    m2 = st.mean(y)  \n",
    "    m4 = st.mean(z)\n",
    "    kur = (n-1)/((n-2)*(n-3))*((n+1)*m4/(m2**2) - 3*(n-1))    \n",
    "    return(kur)\n",
    "\n",
    "kurt(data.width)"
   ]
  },
  {
   "cell_type": "markdown",
   "id": "a0fee6ce",
   "metadata": {},
   "source": [
    "### Barplots"
   ]
  },
  {
   "cell_type": "code",
   "execution_count": 18,
   "id": "13b04cd4",
   "metadata": {},
   "outputs": [
    {
     "data": {
      "image/png": "[encoded data removed]",
      "text/plain": [
       "<Figure size 1080x288 with 3 Axes>"
      ]
     },
     "metadata": {},
     "output_type": "display_data"
    }
   ],
   "source": [
    "# specify that plot to be along 1 row, and 3 cols\n",
    "fig, axes = plt.subplots(1, 3, figsize=(15,4)) \n",
    "# colours for each of the bar plots\n",
    "colors = ['tab:red', 'tab:blue', 'tab:orange']\n",
    "# barplots for each of the attributes\n",
    "plots = ['color', \"spine\", \"satell\"]\n",
    "for i, (ax, plot) in enumerate(zip(axes.flatten(), plots)):\n",
    "    # for each attribute,sieve out the unique values\n",
    "    types = data[plot].unique()\n",
    "    # find count for each value\n",
    "    counts = [data[data[plot] == type][plot].count() for type in types]\n",
    "    # plot them on the axes\n",
    "    ax.bar(types, counts, color=colors[i])\n",
    "plt.xlabel('type')\n",
    "plt.show()"
   ]
  },
  {
   "cell_type": "code",
   "execution_count": 19,
   "id": "f5329f4d",
   "metadata": {},
   "outputs": [
    {
     "data": {
      "text/plain": [
       "Text(0.5, 1.0, 'bar plot')"
      ]
     },
     "execution_count": 19,
     "metadata": {},
     "output_type": "execute_result"
    },
    {
     "data": {
      "image/png": "[encoded data removed]",
      "text/plain": [
       "<Figure size 432x288 with 1 Axes>"
      ]
     },
     "metadata": {},
     "output_type": "display_data"
    }
   ],
   "source": [
    "# code for a single attribute\n",
    "# bar(types, counts, colors)\n",
    "plt.bar([\"a\", \"b\"], [10, 20])\n",
    "plt.xlabel(\"type\")\n",
    "plt.ylabel(\"count\")\n",
    "plt.title(\"bar plot\")"
   ]
  },
  {
   "cell_type": "markdown",
   "id": "599888de",
   "metadata": {},
   "source": [
    "### Histograms"
   ]
  },
  {
   "cell_type": "code",
   "execution_count": 22,
   "id": "92d68e4c",
   "metadata": {},
   "outputs": [
    {
     "data": {
      "image/png": "[encoded data removed]",
      "text/plain": [
       "<Figure size 432x288 with 1 Axes>"
      ]
     },
     "metadata": {},
     "output_type": "display_data"
    }
   ],
   "source": [
    "# for a single attribute\n",
    "# x-values\n",
    "l = list(np.arange(min(data[\"satell\"]), max(data[\"satell\"]), 0.5))\n",
    "y = scst.norm.pdf(l, loc = st.mean(data['satell']), scale = st.stdev(data['satell'])) \n",
    "\n",
    "# normal overlay\n",
    "plt.plot(l, y)\n",
    "\n",
    "# density overlay\n",
    "data['satell'].plot(kind = 'density', xlim=[0, max(data['satell'])]) # requires dataframe\n",
    "plt.hist(data['satell'], \n",
    "    bins=11, density=True, color='C4')\n",
    "plt.title('Histogram') \n",
    "plt.xlabel('Values') \n",
    "plt.ylabel('Probability') \n",
    "plt.show()\n",
    "\n",
    "## Plotting multiple histograms\n",
    "# fig, ax = plt.subplots(figsize=(10,5))\n",
    "# data.hist(column=['width'], by='satell', ax=ax)\n",
    "# plt.xlabel('') \n",
    "# plt.show()"
   ]
  },
  {
   "cell_type": "code",
   "execution_count": 31,
   "id": "407be85b",
   "metadata": {},
   "outputs": [
    {
     "data": {
      "image/png": "[encoded data removed]",
      "text/plain": [
       "<Figure size 800x300 with 3 Axes>"
      ]
     },
     "metadata": {},
     "output_type": "display_data"
    }
   ],
   "source": [
    "### Plotting multiple histograms\n",
    "fig, axes = plt.subplots(1, 3, figsize=(8,3), dpi=100, sharex=True, sharey=True)\n",
    "colors = ['tab:red', 'tab:blue', 'tab:orange']\n",
    "\n",
    "for i, (ax, type) in enumerate(zip(axes.flatten(), data[\"spine\"].unique())):\n",
    "    x = data.loc[data.spine==type, 'weight']\n",
    "    ax.hist(x, alpha=0.5, bins=30, \n",
    "        density=True, stacked=True, \n",
    "        label=str(type), color=colors[i])\n",
    "    ax.set_title(type)\n",
    "\n",
    "# plt.title('Probability Histogram by types', y=1.05, size=16)\n",
    "# ax.set_xlim(0, 50); \n",
    "# ax.set_ylim(0, 1);\n",
    "plt.tight_layout();"
   ]
  },
  {
   "cell_type": "markdown",
   "id": "b614cbd7",
   "metadata": {},
   "source": [
    "### Scatterplots"
   ]
  },
  {
   "cell_type": "code",
   "execution_count": 34,
   "id": "4602d34c",
   "metadata": {},
   "outputs": [
    {
     "data": {
      "image/png": "[encoded data removed]",
      "text/plain": [
       "<Figure size 432x288 with 1 Axes>"
      ]
     },
     "metadata": {},
     "output_type": "display_data"
    }
   ],
   "source": [
    "groups = data.groupby(\"satell\")\n",
    "for name, group in groups:\n",
    "    plt.plot(group[\"width\"], group[\"weight\"], \n",
    "        marker=\"o\", linestyle=\"\", label=name)\n",
    "\n",
    "plt.legend()\n",
    "plt.show()\n",
    "\n",
    "# # Alternatively        \n",
    "# colors = ['tab:orange', 'tab:blue']\n",
    "# for type in data_test['>1 satell'].unique(): # find the number of unique values in attr\n",
    "#     width = data_test[data_test['>1 satell'] == type][\"width\"]\n",
    "#     weight = data_test[data_test['>1 satell'] == type][\"weight\"]\n",
    "    \n",
    "#     plt.scatter(width, weight, \n",
    "#         color=colors[type], label=type)\n",
    "\n",
    "#     print(type, \":\", np.corrcoef(width, weight)[0, 1]) # correlation\n",
    "\n",
    "# # End off \n",
    "# plt.legend()\n",
    "# plt.show()"
   ]
  },
  {
   "cell_type": "markdown",
   "id": "8ecee1de",
   "metadata": {},
   "source": [
    "### Boxplots"
   ]
  },
  {
   "cell_type": "code",
   "execution_count": 39,
   "id": "a9dacf9f",
   "metadata": {},
   "outputs": [
    {
     "data": {
      "image/png": "[encoded data removed]",
      "text/plain": [
       "<Figure size 504x504 with 1 Axes>"
      ]
     },
     "metadata": {},
     "output_type": "display_data"
    }
   ],
   "source": [
    "# plot of quantitative vs categorical\n",
    "fig, ax = plt.subplots(figsize=(7,7))\n",
    "data.boxplot(column=['width'], by=['spine'], ax=ax, color = 'r')\n",
    "plt.show()"
   ]
  },
  {
   "cell_type": "markdown",
   "id": "5e05ca25",
   "metadata": {},
   "source": [
    "## Normality Checking"
   ]
  },
  {
   "cell_type": "markdown",
   "id": "ea5dce03",
   "metadata": {},
   "source": [
    "### QQ plot"
   ]
  },
  {
   "cell_type": "code",
   "execution_count": 42,
   "id": "4bd3f133",
   "metadata": {},
   "outputs": [
    {
     "data": {
      "image/png": "[encoded data removed]",
      "text/plain": [
       "<Figure size 432x288 with 1 Axes>"
      ]
     },
     "metadata": {},
     "output_type": "display_data"
    },
    {
     "data": {
      "text/plain": [
       "ShapiroResult(statistic=0.9647103548049927, pvalue=0.00022716292005497962)"
      ]
     },
     "execution_count": 42,
     "metadata": {},
     "output_type": "execute_result"
    }
   ],
   "source": [
    "# Take note of the axis swap\n",
    "scst.probplot(data['weight'], dist=\"norm\", plot=pylab)\n",
    "pylab.title('QQ Plot') \n",
    "pylab.show()\n",
    "\n",
    "# QQ plot for 3 groups in ONE Figure:\n",
    "# import matplotlib.pyplot as plt\n",
    "# fig = plt.figure(figsize = (9, 3) ) # 9 is the width of figure; 3 is the height of figure\n",
    "\n",
    "\n",
    "# ax = fig.add_subplot(1, 3, 1) #add_subplot(nrows, ncols, index, **kwargs)\n",
    "# sm.graphics.qqplot(F, line='s', ax=ax)\n",
    "# plt.title('QQ plot of F')\n",
    "\n",
    "\n",
    "# ax = fig.add_subplot(1, 3, 2)\n",
    "# sm.graphics.qqplot(M, line='s', ax=ax)\n",
    "# plt.title('QQ plot of M')\n",
    "\n",
    "\n",
    "# ax = fig.add_subplot(1, 3, 3)\n",
    "# sm.graphics.qqplot(R, line='s', ax=ax)\n",
    "# plt.title('QQ plot of R')\n",
    "\n",
    "\n",
    "# fig.tight_layout()\n",
    "\n",
    "# plt.show()\n",
    "\n",
    "\n",
    "## Shapiro Test\n",
    "scst.shapiro(data[\"weight\"]) "
   ]
  },
  {
   "cell_type": "markdown",
   "id": "1f399134",
   "metadata": {},
   "source": [
    "## Categorical Data Analysis"
   ]
  },
  {
   "cell_type": "markdown",
   "id": "fb066c11",
   "metadata": {},
   "source": [
    "### Contingency Table"
   ]
  },
  {
   "cell_type": "code",
   "execution_count": null,
   "id": "045f068c",
   "metadata": {},
   "outputs": [
    {
     "data": {
      "text/plain": [
       "{'Yes': [36, 42], 'No': [60, 81]}"
      ]
     },
     "metadata": {},
     "output_type": "display_data"
    }
   ],
   "source": [
    "# single attribute\n",
    "pd.crosstab(index=data.satell, columns=\"count\")\n",
    "# # rxc table\n",
    "pd.crosstab(data.satell, data.spine)"
   ]
  },
  {
   "cell_type": "markdown",
   "id": "bc6f764a",
   "metadata": {},
   "source": [
    "### Odds ratio, RR, and Sample Difference"
   ]
  },
  {
   "cell_type": "code",
   "execution_count": 56,
   "id": "ff3ba37b",
   "metadata": {},
   "outputs": [
    {
     "name": "stdout",
     "output_type": "stream",
     "text": [
      "0.03353658536585363 1.0982142857142856 1.1571428571428568\n",
      "[[  2.50666667 185.49333333]\n",
      " [  3.49333333 258.50666667]]\n",
      "               Estimate   SE   LCB    UCB   p-value\n",
      "---------------------------------------------------\n",
      "Odds ratio        2.826        0.512 15.592   0.233\n",
      "Log odds ratio    1.039 0.871 -0.669  2.747   0.233\n",
      "Risk ratio        2.787        0.516 15.060   0.234\n",
      "Log risk ratio    1.025 0.861 -0.662  2.712   0.234\n",
      "---------------------------------------------------\n"
     ]
    }
   ],
   "source": [
    "data = {'Yes': [36,42], 'No': [60,81]}\n",
    "df = pd.DataFrame(data, columns =['Yes', 'No'])\n",
    "\n",
    "prob = df['Yes']/(df['Yes'] + df['No']) \n",
    "SD = prob[0] - prob[1] # this is sample difference\n",
    "RR =  prob[0]/prob[1] # this is Relative Risk\n",
    "odds = prob/(1-prob) # the odds of 'Yes'\n",
    "OR = odds[0]/odds[1] # this is odds ratio\n",
    "\n",
    "print(SD, RR, OR)\n",
    "\n",
    "\n",
    "### Alternative\n",
    "import statsmodels.api as sm\n",
    "table = np.array([[4,184], [2,260]])\n",
    "new_table = sm.stats.Table(table)\n",
    "print(new_table.fittedvalues) # expected values if the 2 variables are independent\n",
    "sum_table = sm.stats.Table2x2(table) # table can be a crosstab\n",
    "print(sum_table.summary(alpha = 0.05)) # we also get the 95% CI (LCB, UCB)"
   ]
  },
  {
   "cell_type": "markdown",
   "id": "b156377b",
   "metadata": {},
   "source": [
    "### Chi-squared test"
   ]
  },
  {
   "cell_type": "markdown",
   "id": "fb066c11",
   "metadata": {},
   "source": [
    "### Contingency Table"
   ]
  },
  {
   "cell_type": "code",
   "execution_count": 78,
   "id": "045f068c",
   "metadata": {},
   "outputs": [
    {
     "data": {
      "text/html": [
       "<div>\n",
       "<style scoped>\n",
       "    .dataframe tbody tr th:only-of-type {\n",
       "        vertical-align: middle;\n",
       "    }\n",
       "\n",
       "    .dataframe tbody tr th {\n",
       "        vertical-align: top;\n",
       "    }\n",
       "\n",
       "    .dataframe thead th {\n",
       "        text-align: right;\n",
       "    }\n",
       "</style>\n",
       "<table border=\"1\" class=\"dataframe\">\n",
       "  <thead>\n",
       "    <tr style=\"text-align: right;\">\n",
       "      <th>col_0</th>\n",
       "      <th>count</th>\n",
       "    </tr>\n",
       "    <tr>\n",
       "      <th>satell</th>\n",
       "      <th></th>\n",
       "    </tr>\n",
       "  </thead>\n",
       "  <tbody>\n",
       "    <tr>\n",
       "      <th>0</th>\n",
       "      <td>62</td>\n",
       "    </tr>\n",
       "    <tr>\n",
       "      <th>1</th>\n",
       "      <td>16</td>\n",
       "    </tr>\n",
       "    <tr>\n",
       "      <th>2</th>\n",
       "      <td>9</td>\n",
       "    </tr>\n",
       "    <tr>\n",
       "      <th>3</th>\n",
       "      <td>19</td>\n",
       "    </tr>\n",
       "    <tr>\n",
       "      <th>4</th>\n",
       "      <td>19</td>\n",
       "    </tr>\n",
       "    <tr>\n",
       "      <th>5</th>\n",
       "      <td>15</td>\n",
       "    </tr>\n",
       "    <tr>\n",
       "      <th>6</th>\n",
       "      <td>13</td>\n",
       "    </tr>\n",
       "    <tr>\n",
       "      <th>7</th>\n",
       "      <td>4</td>\n",
       "    </tr>\n",
       "    <tr>\n",
       "      <th>8</th>\n",
       "      <td>6</td>\n",
       "    </tr>\n",
       "    <tr>\n",
       "      <th>9</th>\n",
       "      <td>3</td>\n",
       "    </tr>\n",
       "    <tr>\n",
       "      <th>10</th>\n",
       "      <td>3</td>\n",
       "    </tr>\n",
       "    <tr>\n",
       "      <th>11</th>\n",
       "      <td>1</td>\n",
       "    </tr>\n",
       "    <tr>\n",
       "      <th>12</th>\n",
       "      <td>1</td>\n",
       "    </tr>\n",
       "    <tr>\n",
       "      <th>14</th>\n",
       "      <td>1</td>\n",
       "    </tr>\n",
       "    <tr>\n",
       "      <th>15</th>\n",
       "      <td>1</td>\n",
       "    </tr>\n",
       "  </tbody>\n",
       "</table>\n",
       "</div>"
      ],
      "text/plain": [
       "col_0   count\n",
       "satell       \n",
       "0          62\n",
       "1          16\n",
       "2           9\n",
       "3          19\n",
       "4          19\n",
       "5          15\n",
       "6          13\n",
       "7           4\n",
       "8           6\n",
       "9           3\n",
       "10          3\n",
       "11          1\n",
       "12          1\n",
       "14          1\n",
       "15          1"
      ]
     },
     "execution_count": 78,
     "metadata": {},
     "output_type": "execute_result"
    }
   ],
   "source": [
    "# single attribute\n",
    "pd.crosstab(index=satell, columns=\"count\")\n",
    "# # rxc table\n",
    "# pd.crosstab(satell, spine)"
   ]
  },
  {
   "cell_type": "code",
   "execution_count": 54,
   "id": "9a24e238",
   "metadata": {},
   "outputs": [
    {
     "data": {
      "text/plain": [
       "(30.070149095754672,\n",
       " 2.9535891832117595e-07,\n",
       " 2,\n",
       " array([[703.67138194, 319.64526659, 533.68335147],\n",
       "        [542.32861806, 246.35473341, 411.31664853]]))"
      ]
     },
     "execution_count": 54,
     "metadata": {},
     "output_type": "execute_result"
    }
   ],
   "source": [
    "obs = np.array([[46,474], [37,516]])\n",
    "# this will return: test statistic, p-value, dof, and expected values\n",
    "scst.chi2_contingency(obs, correction = True)  # can be used with crosstabs (contingency table)\n",
    "\n",
    "# rxc table\n",
    "obs = np.array([[762,327,468], [484,239,477]])\n",
    "scst.chi2_contingency(obs, correction = True)"
   ]
  },
  {
   "cell_type": "markdown",
   "id": "84796c2d",
   "metadata": {},
   "source": [
    "### Fisher Exact Test"
   ]
  },
  {
   "cell_type": "code",
   "execution_count": 57,
   "id": "be86611a",
   "metadata": {},
   "outputs": [
    {
     "data": {
      "text/plain": [
       "(2.8260869565217392, 0.24118420183181116)"
      ]
     },
     "execution_count": 57,
     "metadata": {},
     "output_type": "execute_result"
    }
   ],
   "source": [
    "claritin = np.array([[4,184], [2,260]])\n",
    "scst.fisher_exact(claritin, alternative='two-sided')"
   ]
  },
  {
   "cell_type": "markdown",
   "id": "4bf4d4e9",
   "metadata": {},
   "source": [
    "### Mcnemar test"
   ]
  },
  {
   "cell_type": "code",
   "execution_count": 66,
   "id": "3584ad4d",
   "metadata": {},
   "outputs": [
    {
     "name": "stdout",
     "output_type": "stream",
     "text": [
      "pvalue      0.00040695201744495946\n",
      "statistic   12.5\n",
      "pvalue 0.00040695201744495946\n"
     ]
    }
   ],
   "source": [
    "from statsmodels.stats.contingency_tables import mcnemar\n",
    "x = np.array([[25,1], [17,7]])\n",
    "# the McNemar test in R is equivalent to this \n",
    "# test in Python but using approximate p-value.\n",
    "print(mcnemar(x, exact=False, correction=True))\n",
    "\n",
    "# Should be used when table has small cell count\n",
    "# print(mcnemar(x, exact=True, correction=True))\n",
    "\n",
    "## manual calculation\n",
    "statistic = (np.absolute(x[0, 1] - x[1, 0]) - 1) ** 2 / (x[0, 1] + x[1, 0]) #with continuity correction\n",
    "p_value = scst.chi2.sf(statistic, 1)\n",
    "print('pvalue', p_value)"
   ]
  },
  {
   "cell_type": "markdown",
   "id": "47720d68",
   "metadata": {},
   "source": [
    "### Linear by Linear Test"
   ]
  },
  {
   "cell_type": "code",
   "execution_count": 69,
   "id": "fc30ac1a",
   "metadata": {},
   "outputs": [
    {
     "name": "stdout",
     "output_type": "stream",
     "text": [
      "null_mean   26.307745441149383\n",
      "null_sd     4.366536892904495\n",
      "pvalue      0.010371589916631332\n",
      "statistic   37.5\n",
      "zscore      2.5631879068828503\n"
     ]
    }
   ],
   "source": [
    "import statsmodels.api as sm\n",
    "\n",
    "## These are the columns\n",
    "table = np.array([[17066, 14464, 788, 126, 37], [48, 38, 5, 1, 1]]) # take note that these are in rows\n",
    "ct = sm.stats.Table(np.asarray(table)) # can use crosstab too\n",
    "\n",
    "\n",
    "# scores for 2 rows\n",
    "row_scores = np.asarray([0, 1])\n",
    "\n",
    "# scores for 5 columns\n",
    "col_scores = np.asarray([0,0.5,1.5, 4, 7]) \n",
    "\n",
    "# z-score^2 is the test statistic\n",
    "ans = ct.test_ordinal_association(row_scores=row_scores, col_scores=col_scores)\n",
    "print(ans)"
   ]
  },
  {
   "cell_type": "markdown",
   "id": "e5b2fb74",
   "metadata": {},
   "source": [
    "### Manual Linear by Linear Test"
   ]
  },
  {
   "cell_type": "code",
   "execution_count": 176,
   "id": "129249cb",
   "metadata": {},
   "outputs": [],
   "source": [
    "def linear_by_linear_test(col1, col2, u, v):\n",
    "    '''\n",
    "    u refers to the row scores\n",
    "    v refers to the col scores\n",
    "    '''\n",
    "    matrix = [col1, col2]\n",
    "    row_total = [a + b for a,b in zip(col1, col2)]\n",
    "    col_total = [sum(col1), sum(col2)]\n",
    "    n = sum(row_total)\n",
    "    \n",
    "    row_p = [x / n for x in row_total]\n",
    "    ubar = sum([a*b for a,b in zip(row_p, u)])\n",
    "    col_p = [x / n for x in col_total]\n",
    "    vbar = sum([a*b for a,b in zip(col_p, v)])\n",
    "    \n",
    "    numerator = 0\n",
    "    for i in range(len(u)):\n",
    "        for j in range(len(v)):\n",
    "            ui = u[i]\n",
    "            vj = v[j]\n",
    "            pij = matrix[j][i] / n\n",
    "            numerator += (ui - ubar) * (vj - vbar) * pij\n",
    "\n",
    "    \n",
    "    denominator = (\n",
    "        sum([row_p[i] * (u[i] - ubar)**2 \n",
    "            for i in range(len(u))]) * \\\n",
    "        sum([col_p[j] * (v[j] - vbar)**2 \n",
    "            for j in range(len(v))]))**0.5\n",
    "    \n",
    "    r = numerator / denominator\n",
    "    M = (n-1) * r**2\n",
    "    p_value = 1- scst.chi2.cdf(M, 1)\n",
    "    return \"M is {} and two sided p-value is {}\".format(M,p_value)"
   ]
  },
  {
   "cell_type": "markdown",
   "id": "cde51e26",
   "metadata": {},
   "source": [
    "## Hypothesis Testing"
   ]
  },
  {
   "cell_type": "markdown",
   "id": "d705edc1",
   "metadata": {},
   "source": [
    "## Equal variance test"
   ]
  },
  {
   "cell_type": "code",
   "execution_count": null,
   "id": "827ad3b4",
   "metadata": {},
   "outputs": [],
   "source": [
    "# Test normality for each group\n",
    "groups = data.groupby(\"group\")\n",
    "for name, group in groups:\n",
    "  print(shapiro(group['time']))\n",
    "\n",
    "# bartlett (for normal data)\n",
    "scst.bartlett(data['glaucoma'], data['unaffected'])  \n",
    "\n",
    "# levene (for unknown distributions)\n",
    "scst.levene(data['glaucoma'], data['unaffected'])  "
   ]
  },
  {
   "cell_type": "markdown",
   "id": "2776e4dc",
   "metadata": {},
   "source": [
    "### T-Test (One sample)"
   ]
  },
  {
   "cell_type": "code",
   "execution_count": 98,
   "id": "3fc84105",
   "metadata": {},
   "outputs": [
    {
     "name": "stdout",
     "output_type": "stream",
     "text": [
      "Confidence Interval: [25.98233883437627, 26.6153490268954]\n"
     ]
    },
    {
     "data": {
      "text/plain": [
       "Ttest_1sampResult(statistic=1.8637100880695137, pvalue=0.06406694845034848)"
      ]
     },
     "execution_count": 98,
     "metadata": {},
     "output_type": "execute_result"
    }
   ],
   "source": [
    "def ttest_1sample(data, pop_mean, alpha, alternative=\"two-sided\"):\n",
    "  sig_level = 1 - (alpha / 2)\n",
    "  df = len(data) - 1\n",
    "  CI = [st.mean(data) - scst.t.ppf(sig_level, df)*math.sqrt(st.variance(data)/len(data)), st.mean(data) + scst.t.ppf(sig_level, df)*math.sqrt(st.variance(data)/len(data))]\n",
    "  print(f\"Confidence Interval: {CI}\")\n",
    "  # Built-in 1 sample t-test\n",
    "  return scst.ttest_1samp(data, popmean=pop_mean, alternative=alternative) # by default, this is a 2 sided test.\n",
    "\n",
    "ttest_1sample(width, 26, 0.05)"
   ]
  },
  {
   "cell_type": "markdown",
   "id": "31ccff0a",
   "metadata": {},
   "source": [
    "### Paired T-Test (for dependent sample)"
   ]
  },
  {
   "cell_type": "code",
   "execution_count": null,
   "id": "a1e3c129",
   "metadata": {},
   "outputs": [],
   "source": [
    "# paired t-test for the matched of \"glaucoma\" and \"unaffected\"\n",
    "test = scst.ttest_rel(data['glaucoma'], data['unaffected'], axis=0) #two sided test\n",
    "\n",
    "# two sided test has p-value  = 0.0968 with a negative statistic\n",
    "# hence, 1 sided p-value (left test) has p-value of 0.0484\n",
    "# right test is 1 - 0.0484\n",
    "# confidence interval can be constructed similarly as above"
   ]
  },
  {
   "cell_type": "markdown",
   "id": "98371254",
   "metadata": {},
   "source": [
    "### Wilcoxon Signed Rank Test"
   ]
  },
  {
   "cell_type": "code",
   "execution_count": null,
   "id": "38d92190",
   "metadata": {},
   "outputs": [],
   "source": [
    "t2, p2  = scst.wilcoxon(x = diff, y=None, zero_method='wilcox', correction=False, alternative='two-sided')\n",
    "print('Test statistic is: ', t2) \n",
    "print( 'p-value is: ',p2)\n",
    "\n",
    "# exact test with correction=False\n",
    "# In Python, by default, the test statistic is min (V+, V-). In R, the test statistics is V+\n",
    "# p-value from Python might slightly different from R"
   ]
  },
  {
   "cell_type": "markdown",
   "id": "84c4d525",
   "metadata": {},
   "source": [
    "### Two Sample T-Test (Independent)"
   ]
  },
  {
   "cell_type": "code",
   "execution_count": null,
   "id": "915ad6c8",
   "metadata": {},
   "outputs": [],
   "source": [
    "#2 independent samples t-test:\n",
    "# import statsmodels.api as sa\n",
    "# test= sa.weightstats.ttest_ind(data['glaucoma'], data['unaffected'], alternative='smaller', usevar='pooled', value=0) # using pooled variance, usevar=\"unequal\" if variance is not equal\n",
    "# print(test)  # test_statistic, p-val, and degree of freedom\n",
    "\n",
    "# Alternatively\n",
    "scst.ttest_ind(new, old, axis=0, equal_var=True, alternative=\"greater\")#, alternative='two-sided') # 2-sided test"
   ]
  },
  {
   "cell_type": "markdown",
   "id": "dc235174",
   "metadata": {},
   "source": [
    "### Wilcoxon Rank Sum Test (ManWhitney)"
   ]
  },
  {
   "cell_type": "code",
   "execution_count": null,
   "id": "41d6fe0b",
   "metadata": {},
   "outputs": [],
   "source": [
    "test6 = scst.mannwhitneyu(plant_one, plant_two, use_continuity=True, alternative='two-sided')\n",
    "#this test is Wilcoxon Rank Sum test\n",
    "print(test6) # statistic, p-value"
   ]
  },
  {
   "cell_type": "markdown",
   "id": "a869d3e2",
   "metadata": {},
   "source": [
    "## Anova"
   ]
  },
  {
   "cell_type": "code",
   "execution_count": null,
   "id": "cbec69c7",
   "metadata": {},
   "outputs": [],
   "source": [
    "mod = ols('sales ~ location', data=data).fit()\n",
    "anova = sm.stats.anova_lm(mod, typ=1) # typ = 1 or 2\n",
    "print(anova)"
   ]
  },
  {
   "cell_type": "markdown",
   "id": "42c682d5",
   "metadata": {},
   "source": [
    "### Kruskal Wallis Test"
   ]
  },
  {
   "cell_type": "code",
   "execution_count": null,
   "id": "3a856bb2",
   "metadata": {},
   "outputs": [],
   "source": [
    "####  KRUSKALL-WALLIS TEST\n",
    "from scipy.stats import kruskal\n",
    "\n",
    "# split them into groups\n",
    "kruskal = kruskal(data.time[(data.group==1)],data.time[(data.group==2)],data.time[(data.group==3)],data.time[(data.group==4)])\n",
    "print(kruskal)"
   ]
  },
  {
   "cell_type": "markdown",
   "id": "ae64a5fb",
   "metadata": {},
   "source": [
    "### Bonferroni"
   ]
  },
  {
   "cell_type": "code",
   "execution_count": null,
   "id": "b3c02cf1",
   "metadata": {},
   "outputs": [],
   "source": [
    "import statsmodels.stats.multicomp as mc\n",
    "\n",
    "comparison = mc.MultiComparison(data.sales, data.location)\n",
    "result, tbl1, tbl2 = comparison.allpairtest(scst.ttest_ind, method= \"bonf\", alpha = 0.05)\n",
    "# by default, the Family Wise Error Rate (alpha) is 0.05. Can try with alpha = 0.1\n",
    "# for each pair, a two independent sample t-test is performed.\n",
    "print(result)\n",
    "\n",
    "\n",
    "## If the groups are not normal \n",
    "result, tbl1, tbl2 = comparison.allpairtest(scst.mannwhitneyu, method= \"bonf\")\n",
    "print(result)"
   ]
  },
  {
   "cell_type": "markdown",
   "id": "b043f7e9",
   "metadata": {},
   "source": [
    "### Turkey"
   ]
  },
  {
   "cell_type": "code",
   "execution_count": null,
   "id": "8b1cfa0f",
   "metadata": {},
   "outputs": [],
   "source": [
    "### TUKEY\n",
    "import statsmodels.stats.multicomp as mc\n",
    "\n",
    "# sales by location\n",
    "comparison = mc.MultiComparison(data.sales, data.location)\n",
    "tukey = comparison.tukeyhsd(alpha = 0.05)\n",
    "print(tukey.summary() )"
   ]
  },
  {
   "cell_type": "markdown",
   "id": "07a13fcb",
   "metadata": {},
   "source": [
    "## Linear Regression"
   ]
  },
  {
   "cell_type": "code",
   "execution_count": 104,
   "id": "5a06902b",
   "metadata": {},
   "outputs": [
    {
     "name": "stdout",
     "output_type": "stream",
     "text": [
      "          weight    height       age\n",
      "weight  1.000000  0.971650  0.923965\n",
      "height  0.971650  1.000000  0.873101\n",
      "age     0.923965  0.873101  1.000000\n"
     ]
    },
    {
     "data": {
      "image/png": "[encoded data removed]",
      "text/plain": [
       "<Figure size 432x288 with 1 Axes>"
      ]
     },
     "metadata": {},
     "output_type": "display_data"
    }
   ],
   "source": [
    "data = pd.read_csv (r\"C:\\Users\\thend\\OneDrive\\Documents\\University\\Y2S1\\ST2137\\Data\\ex10_1.txt\", sep = \" \")\n",
    "\n",
    "# declare with Oython that: variable gender is categorical\n",
    "data.gender = data.gender.astype('category')  \n",
    "\n",
    "# correlation between weight and height also can be computed as\n",
    "# print( np.corrcoef(data['weight'], data['height']) )\n",
    "\n",
    "# matrix of correlation\n",
    "quant = ['weight','height','age']\n",
    "corr_matrix = data.loc[:,quant].corr()\n",
    "print(corr_matrix)\n",
    "\n",
    "## check linearity of height and weight\n",
    "## scatter plot of height and weight classified by gender\n",
    "groups = data.groupby(\"gender\")\n",
    "for name, group in groups:\n",
    "    pyplot.plot(group[\"height\"], group[\"weight\"], marker=\"o\", linestyle=\"\", label=name)\n",
    "    \n",
    "pyplot.legend()\n",
    "pyplot.show()\n"
   ]
  },
  {
   "cell_type": "code",
   "execution_count": 118,
   "id": "c67c575e",
   "metadata": {},
   "outputs": [
    {
     "name": "stdout",
     "output_type": "stream",
     "text": [
      "gender [1. 0. 0. 1. 1. 0. 1.]\n",
      "                            OLS Regression Results                            \n",
      "==============================================================================\n",
      "Dep. Variable:                 weight   R-squared:                       0.986\n",
      "Model:                            OLS   Adj. R-squared:                  0.957\n",
      "Method:                 Least Squares   F-statistic:                     33.99\n",
      "Date:                Wed, 16 Nov 2022   Prob (F-statistic):             0.0288\n",
      "Time:                        16:48:38   Log-Likelihood:                -21.344\n",
      "No. Observations:                   7   AIC:                             52.69\n",
      "Df Residuals:                       2   BIC:                             52.42\n",
      "Df Model:                           4                                         \n",
      "Covariance Type:            nonrobust                                         \n",
      "==============================================================================\n",
      "                 coef    std err          t      P>|t|      [0.025      0.975]\n",
      "------------------------------------------------------------------------------\n",
      "Intercept   -186.6079    250.984     -0.744      0.535   -1266.504     893.288\n",
      "height         4.4472      4.193      1.061      0.400     -13.594      22.488\n",
      "age            0.8211      0.995      0.826      0.496      -3.458       5.100\n",
      "gen         -502.7463    385.268     -1.305      0.322   -2160.422    1154.929\n",
      "height:gen     7.6709      5.693      1.347      0.310     -16.823      32.165\n",
      "==============================================================================\n",
      "Omnibus:                          nan   Durbin-Watson:                   2.221\n",
      "Prob(Omnibus):                    nan   Jarque-Bera (JB):                0.216\n",
      "Skew:                           0.312   Prob(JB):                        0.898\n",
      "Kurtosis:                       2.409   Cond. No.                     9.41e+03\n",
      "==============================================================================\n",
      "\n",
      "Notes:\n",
      "[1] Standard Errors assume that the covariance matrix of the errors is correctly specified.\n",
      "[2] The condition number is large, 9.41e+03. This might indicate that there are\n",
      "strong multicollinearity or other numerical problems.\n",
      "Intercept     250.983679\n",
      "height          4.193057\n",
      "age             0.994515\n",
      "gen           385.268279\n",
      "height:gen      5.692821\n",
      "dtype: float64\n",
      "Mean Squared errors, MS-Res =  91.2007849617844\n",
      "Residual Standard Error =  9.549910207001131\n"
     ]
    },
    {
     "name": "stderr",
     "output_type": "stream",
     "text": [
      "c:\\Users\\thend\\anaconda3\\lib\\site-packages\\statsmodels\\stats\\stattools.py:74: ValueWarning: omni_normtest is not valid with less than 8 observations; 7 samples were given.\n",
      "  warn(\"omni_normtest is not valid with less than 8 observations; %i \"\n"
     ]
    }
   ],
   "source": [
    "## FIRST WAY\n",
    "\n",
    "model=ols(\"weight~height+age+gen+height*gen\",data=data).fit() # similar to R\n",
    "# NOTE: gender[T.M] means Male is chosen in the model, and Female is the REFERENCE.\n",
    "# Here, we let python choose the reference group. One can create an indicator for gender by doing the following: \n",
    "\n",
    "## CREATING INDICATOR VARIABLE\n",
    "n = len(data.weight) # sample size\n",
    "gen = np.zeros(n)\n",
    "gen[(data.gender == 'M')] = 1 # indicator for gender = M\n",
    "# then we can use gen instead of gender to fit models.\n",
    "print('gender', gen)\n",
    "\n",
    "\n",
    "print(model.summary())\n",
    "print(model.bse) # standard error for the coefficients\n",
    "print('Mean Squared errors, MS-Res = ',model.mse_resid) # another name is residual mean square\n",
    "print('Residual Standard Error = ', np.sqrt(model.mse_resid) ) # coefficient of determination"
   ]
  },
  {
   "cell_type": "code",
   "execution_count": 111,
   "id": "21099677",
   "metadata": {},
   "outputs": [
    {
     "name": "stdout",
     "output_type": "stream",
     "text": [
      "             df        sum_sq       mean_sq           F    PR(>F)\n",
      "height      1.0  11880.327238  11880.327238  130.265625  0.007589\n",
      "age         1.0    302.710505    302.710505    3.319166  0.210063\n",
      "gen         1.0     52.682647     52.682647    0.577656  0.526607\n",
      "height:gen  1.0    165.592326    165.592326    1.815690  0.310182\n",
      "Residual    2.0    182.401570     91.200785         NaN       NaN\n",
      "                sum_sq   df         F    PR(>F)\n",
      "height      144.720939  1.0  1.586839  0.334864\n",
      "age          62.169859  1.0  0.681681  0.495818\n",
      "gen          52.682647  1.0  0.577656  0.526607\n",
      "height:gen  165.592326  1.0  1.815690  0.310182\n",
      "Residual    182.401570  2.0       NaN       NaN\n",
      "                sum_sq   df         F    PR(>F)\n",
      "Intercept    50.415934  1.0  0.552802  0.534654\n",
      "height      102.592269  1.0  1.124906  0.400016\n",
      "age          62.169859  1.0  0.681681  0.495818\n",
      "gen         155.299442  1.0  1.702830  0.321861\n",
      "height:gen  165.592326  1.0  1.815690  0.310182\n",
      "Residual    182.401570  2.0       NaN       NaN\n"
     ]
    }
   ],
   "source": [
    "from statsmodels.formula.api import ols\n",
    "# NOTE: Categorical variables will appear in the first row of the anova table\n",
    "\n",
    "# NOTE: \n",
    "# typ = 1 gives a table the same as ***anova*** table of model in R, test the significance of a variable in the model WITHOUT the presence of variable below it.\n",
    "# typ = 2 gives p-values the same as from ***t-test*** of model in R, help to test the significance of a variable in the model WITH the presence of all other variables.\n",
    "\n",
    "anova11 = sm.stats.anova_lm(model, typ=1) #Anova of model 1 with typ = 1\n",
    "print(anova11)\n",
    "\n",
    "# the p-value here is similar to the p-value from t-test from summary(model) in R.\n",
    "anova22 = sm.stats.anova_lm(model, typ=2) \n",
    "print(anova22)\n",
    "\n",
    "# similar as typ = 2 but has the intercept included. the sum_sq and p-value in this table is similar as the Type II (SS2) in SAS.\n",
    "print(sm.stats.anova_lm(model, typ=3) ) "
   ]
  },
  {
   "cell_type": "code",
   "execution_count": 124,
   "id": "6d38b2c9",
   "metadata": {},
   "outputs": [
    {
     "name": "stdout",
     "output_type": "stream",
     "text": [
      "Leverage: [False False False False False False False]\n",
      "Cooks distance: [False False False False False False  True]\n"
     ]
    },
    {
     "data": {
      "image/png": "[encoded data removed]",
      "text/plain": [
       "<Figure size 432x288 with 1 Axes>"
      ]
     },
     "metadata": {},
     "output_type": "display_data"
    },
    {
     "data": {
      "image/png": "[encoded data removed]",
      "text/plain": [
       "<Figure size 432x288 with 1 Axes>"
      ]
     },
     "metadata": {},
     "output_type": "display_data"
    }
   ],
   "source": [
    "\n",
    "# Predicted values of the model (to plot fitted with SR)\n",
    "fitted = model.fittedvalues\n",
    "\n",
    "# the RAW residuals of model \n",
    "raw_resid = model.resid\n",
    "\n",
    "# standardized residuals (check normality with QQ plot)\n",
    "analysis = model.get_influence() \n",
    "SR = analysis.resid_studentized_internal\n",
    "\n",
    "# leverage (hat values)\n",
    "leverage = analysis.hat_matrix_diag\n",
    "print('Leverage:', leverage > (2 * (model.df_model + 1) / len(data.weight)) )\n",
    "\n",
    "#Cook's distance values (and p-values) as tuple of arrays\n",
    "cooks_d, p = analysis.cooks_distance\n",
    "print(\"Cooks distance:\", cooks_d > 1)\n",
    "\n",
    "# plotting QQ Plot of SR\n",
    "import matplotlib.pyplot as pyplot\n",
    "scst.probplot(SR, dist=\"norm\", plot=pyplot)\n",
    "pyplot.title('QQ Plot') \n",
    "pyplot.show()\n",
    "\n",
    "## Plot of fitted values against SR\n",
    "fitted = model.fittedvalues\n",
    "\n",
    "import matplotlib.pyplot as pyplot\n",
    "pyplot.scatter(fitted, SR,color='b')  \n",
    "pyplot.xlabel('Fitted Values') \n",
    "pyplot.ylabel('Standardized Residuals') \n",
    "pyplot.hlines(0, xmin = min(fitted), xmax = max(fitted) )\n",
    "pyplot.title('') \n",
    "pyplot.show() \n",
    "\n",
    "# Normaliy assumption: From the qq plot of SR, it has both right tail and left tail\n",
    "# are heavier than normal. Hence, normality assmption might be violated.\n",
    "# SR vs fitted: there are 4 outliers obviously with large |SR|.\n",
    "# constant variance assumption and independent errors assumption are met."
   ]
  },
  {
   "cell_type": "code",
   "execution_count": 128,
   "id": "2c0f71d7",
   "metadata": {},
   "outputs": [
    {
     "name": "stdout",
     "output_type": "stream",
     "text": [
      "                            OLS Regression Results                            \n",
      "==============================================================================\n",
      "Dep. Variable:                 weight   R-squared:                       0.944\n",
      "Model:                            OLS   Adj. R-squared:                  0.933\n",
      "Method:                 Least Squares   F-statistic:                     84.45\n",
      "Date:                Wed, 16 Nov 2022   Prob (F-statistic):           0.000256\n",
      "Time:                        16:52:41   Log-Likelihood:                -26.068\n",
      "No. Observations:                   7   AIC:                             56.14\n",
      "Df Residuals:                       5   BIC:                             56.03\n",
      "Df Model:                           1                                         \n",
      "Covariance Type:            nonrobust                                         \n",
      "==============================================================================\n",
      "                 coef    std err          t      P>|t|      [0.025      0.975]\n",
      "------------------------------------------------------------------------------\n",
      "const       -592.6446     81.542     -7.268      0.001    -802.255    -383.034\n",
      "x1            11.1913      1.218      9.190      0.000       8.061      14.322\n",
      "==============================================================================\n",
      "Omnibus:                          nan   Durbin-Watson:                   2.161\n",
      "Prob(Omnibus):                    nan   Jarque-Bera (JB):                0.741\n",
      "Skew:                          -0.033   Prob(JB):                        0.690\n",
      "Kurtosis:                       1.407   Cond. No.                     1.22e+03\n",
      "==============================================================================\n",
      "\n",
      "Notes:\n",
      "[1] Standard Errors assume that the covariance matrix of the errors is correctly specified.\n",
      "[2] The condition number is large, 1.22e+03. This might indicate that there are\n",
      "strong multicollinearity or other numerical problems.\n",
      "const    81.542175\n",
      "x1        1.217803\n",
      "dtype: float64\n",
      "Mean Squared errors, MS-Res =  140.6774096385547\n",
      "Residual Standard Error =  11.860750804167276\n"
     ]
    },
    {
     "name": "stderr",
     "output_type": "stream",
     "text": [
      "c:\\Users\\thend\\anaconda3\\lib\\site-packages\\statsmodels\\stats\\stattools.py:74: ValueWarning: omni_normtest is not valid with less than 8 observations; 7 samples were given.\n",
      "  warn(\"omni_normtest is not valid with less than 8 observations; %i \"\n"
     ]
    },
    {
     "data": {
      "text/html": [
       "<div>\n",
       "<style scoped>\n",
       "    .dataframe tbody tr th:only-of-type {\n",
       "        vertical-align: middle;\n",
       "    }\n",
       "\n",
       "    .dataframe tbody tr th {\n",
       "        vertical-align: top;\n",
       "    }\n",
       "\n",
       "    .dataframe thead th {\n",
       "        text-align: right;\n",
       "    }\n",
       "</style>\n",
       "<table border=\"1\" class=\"dataframe\">\n",
       "  <thead>\n",
       "    <tr style=\"text-align: right;\">\n",
       "      <th></th>\n",
       "      <th>mean</th>\n",
       "      <th>mean_se</th>\n",
       "      <th>mean_ci_lower</th>\n",
       "      <th>mean_ci_upper</th>\n",
       "      <th>obs_ci_lower</th>\n",
       "      <th>obs_ci_upper</th>\n",
       "    </tr>\n",
       "  </thead>\n",
       "  <tbody>\n",
       "    <tr>\n",
       "      <th>0</th>\n",
       "      <td>-572.500301</td>\n",
       "      <td>79.353535</td>\n",
       "      <td>-776.485058</td>\n",
       "      <td>-368.515545</td>\n",
       "      <td>-778.751027</td>\n",
       "      <td>-366.249575</td>\n",
       "    </tr>\n",
       "  </tbody>\n",
       "</table>\n",
       "</div>"
      ],
      "text/plain": [
       "         mean    mean_se  mean_ci_lower  mean_ci_upper  obs_ci_lower  \\\n",
       "0 -572.500301  79.353535    -776.485058    -368.515545   -778.751027   \n",
       "\n",
       "   obs_ci_upper  \n",
       "0   -366.249575  "
      ]
     },
     "execution_count": 128,
     "metadata": {},
     "output_type": "execute_result"
    }
   ],
   "source": [
    "## SECOND WAY TO FIT A LINEAR MODEL (Use this to predict)\n",
    "import statsmodels\n",
    "weight = data['weight']\n",
    "n = len(weight) # data size\n",
    "inter = [1]*n \n",
    "X = np.column_stack((inter, data['height'])) # X = matrix of 2 columns in the model, including column of value 1 for intercept and column of height\n",
    "\n",
    "re = statsmodels.regression.linear_model.OLS(weight, X).fit()\n",
    "print(re.summary())\n",
    "print(re.bse) # standard error for the coefficients\n",
    "print('Mean Squared errors, MS-Res = ',re.mse_resid)\n",
    "print('Residual Standard Error = ', np.sqrt(re.mse_resid) )\n",
    "\n",
    "\n",
    "## PREDICTION\n",
    "newpoint = [1,1.8] # should match the # of variables (including intercept)\n",
    "predictions = re.get_prediction(newpoint)\n",
    "\n",
    "predictions.summary_frame(alpha=0.05) \n",
    "# predicted value is 2.652043 (under \"mean\")\n",
    "# The 95% CI for the mean weight is mean_ci_lower and mean_ci_upper: (2.565803   ,    2.738282)\n",
    "\n",
    "# BIG note: the name of variable is not shown in the output.\n",
    "# we need to figure out the name based on the matrix X above"
   ]
  },
  {
   "cell_type": "markdown",
   "id": "55aeba40",
   "metadata": {},
   "source": [
    "## Simulation"
   ]
  },
  {
   "cell_type": "code",
   "execution_count": 19,
   "id": "35477e48",
   "metadata": {},
   "outputs": [],
   "source": [
    "## Uniform Distribution\n",
    "x = np.random.uniform(0,1,6) # 6 numbers follow uni(0,1)\n",
    "\n",
    "# Exponential Distribution \n",
    "x = np.random.exponential(1/5, 10) # 10 random numbers follow Exp(lambda=5) \n",
    "\n",
    "# Weibull Distribution\n",
    "x = np.random.weibull(4, 10) # 10 random numbers with shape = 4.\n",
    "\n",
    "# Normal Distribution \n",
    "n, mu, sigma = 10, 5, 1.5\n",
    "x = np.random.normal(loc = mu, scale = sigma, size = n)\n",
    "\n",
    "# Chisquared Distribution \n",
    "x = np.random.chisquare(df = 3, size = 10)\n",
    "\n",
    "# Binomial Distribution\n",
    "x = np.random.binomial(n = 100, p = 0.3, size = 10)\n",
    "\n",
    "# Poisson Distribution\n",
    "x = np.random.poisson(lam = 3, size = 10)"
   ]
  },
  {
   "cell_type": "markdown",
   "id": "f4ed7ad4",
   "metadata": {},
   "source": [
    "### Comparing 3 Estimators of Mean"
   ]
  },
  {
   "cell_type": "code",
   "execution_count": 24,
   "id": "57df7931",
   "metadata": {},
   "outputs": [],
   "source": [
    "\n",
    "# GENERATING DATA\n",
    "M = 10000\n",
    "n = 20\n",
    "mu = 170\n",
    "sd = 10\n",
    "meanx = np.arange(M) # A vector of all sample means\n",
    "medx = np.arange(M) # A vector of all sample medians\n",
    "trmx = np.arange(M) # A vector of all sample 10% trimmed means\n",
    "stdx = np.arange(M) # A vector of all sample standard deviations\n",
    "\n",
    "# set seed\n",
    "np.random.seed(10)\n",
    "\n",
    "for i in range(M):\n",
    "  # Generate a random sample of size n\n",
    "  x = np.random.normal(loc = mu, scale = sd, size = n) \n",
    "  meanx[i] = st.mean(x) # Compute the mean of the i-th sample: T^1_i\n",
    "  medx[i] = st.median(x) # Compute the median of the i-th sample: T^2_i\n",
    "  trmx[i] = scst.trim_mean(x, 0.1) # Compute the 10% trimmed mean for the i-th sample, i.e. T^3_i\n",
    "  stdx[i] <- st.stdev(x) # Compute the standard deviation for the i-th sample.\n",
    "\n",
    "stat = np.asmatrix([meanx,medx,trmx])\n",
    "stat = pd.DataFrame(stat) # sample mean at first, median second; trimmed mean at third.\n",
    "\n",
    "# Compute mean of M sample means, medians, and trimmed means\n",
    "simumean = stat.apply(np.mean, axis = 1)\n",
    "# Compute sd of the M sample means, medians and 10% trimmed means\n",
    "simustd = stat.apply(np.std, axis = 1)\n",
    "#Compute the bias\n",
    "realmu = np.empty(3); realmu.fill(mu)  # a vector of 3 values of mu = 170\n",
    "simubias = simumean - realmu \n",
    "\n",
    "# Compute the MSE (Mean Square Error)\n",
    "simumse = simubias**2 + simustd**2 \n",
    "print(simumse) # meanx has the lowest MSE\n"
   ]
  },
  {
   "cell_type": "markdown",
   "id": "34e5ee18",
   "metadata": {},
   "source": [
    "### Coverage Probability of Confidence Interval"
   ]
  },
  {
   "cell_type": "code",
   "execution_count": 26,
   "id": "a8b317f4",
   "metadata": {},
   "outputs": [],
   "source": [
    "def simulateCI(meanx, stdx, mu, sample_size, simulation_size):\n",
    "  t05 = scst.t.ppf(0.975, df)\n",
    "  coverage = (meanx-t05*stdx/np.sqrt(sample_size) <= mu) &  (mu <= meanx+t05*stdx/ np.sqrt(sample_size))\n",
    "  return sum(coverage)/simulation_size"
   ]
  },
  {
   "cell_type": "markdown",
   "id": "ccd4b7d9",
   "metadata": {},
   "source": [
    "### Simulating Hypothesis Testing"
   ]
  },
  {
   "cell_type": "code",
   "execution_count": 27,
   "id": "b2c05795",
   "metadata": {},
   "outputs": [],
   "source": [
    "def checkHypo(sample_size, simulation_size):\n",
    "  t05 = scst.t.ppf(0.975, sample_size-1)\n",
    "  ttests = (meanx-mu)/(stdx/np.sqrt(sample_size))\n",
    "  size = sum(abs(ttests) > t05)/simulation_size # probability of rejecting Ho\n",
    "  return size "
   ]
  },
  {
   "cell_type": "markdown",
   "id": "05ff13e3",
   "metadata": {},
   "source": [
    "## Resampling"
   ]
  },
  {
   "cell_type": "code",
   "execution_count": 29,
   "id": "e0f599d2",
   "metadata": {},
   "outputs": [
    {
     "data": {
      "text/plain": [
       "[3.39, 3.0, 3.44, 3.0, 3.3, 2.81, 2.81]"
      ]
     },
     "execution_count": 29,
     "metadata": {},
     "output_type": "execute_result"
    }
   ],
   "source": [
    "## Generating random samples\n",
    "from random import choices\n",
    "x = [3.39, 3.30, 2.81, 3.03, 3.44, 3.07, 3.00] # this is the original sample \n",
    "\n",
    "# we want to have a re-sample of x.\n",
    "choices(x, k=len(x))"
   ]
  },
  {
   "cell_type": "markdown",
   "id": "c0678df9",
   "metadata": {},
   "source": [
    "### Nonparametric Bootstrap Estimate SE & BIAS of Estimator "
   ]
  },
  {
   "cell_type": "code",
   "execution_count": 33,
   "id": "3b97ad5d",
   "metadata": {},
   "outputs": [
    {
     "name": "stdout",
     "output_type": "stream",
     "text": [
      "SE is  0.12883928268971384\n",
      "Bias is  -0.005480491289407197\n"
     ]
    }
   ],
   "source": [
    "law = pd.read_csv(r\"C:\\Users\\thend\\OneDrive\\Documents\\University\\Y2S1\\ST2137\\Data\\lawschool.csv\", sep = \",\")\n",
    "\n",
    "theta_hat = np.corrcoef(law.LSAT, law.GPA)[0,1]\n",
    "\n",
    "R = 1000 # number of bootstrap replicates;\n",
    "n = len(law.GPA) # sample size\n",
    "theta_b = [] # storage for boostrap estimates \n",
    "\n",
    "for j in range(R):\n",
    "    i = choices(range(n),k = n) # resampling n items\n",
    "    LSATb = law.LSAT[i]\n",
    "    GPAb = law.GPA[i]\n",
    "    theta_b.append(round(np.corrcoef(LSATb,GPAb)[0, 1], ndigits = 3))\n",
    "\n",
    "print('SE is ', np.std(theta_b))\n",
    "bias = st.mean(theta_b) - theta_hat\n",
    "print('Bias is ', bias)\n"
   ]
  },
  {
   "cell_type": "markdown",
   "id": "a4dc87de",
   "metadata": {},
   "source": [
    "### Bootstap Confidence Interval"
   ]
  },
  {
   "cell_type": "code",
   "execution_count": 36,
   "id": "d61da4d6",
   "metadata": {},
   "outputs": [
    {
     "name": "stdout",
     "output_type": "stream",
     "text": [
      "A  95.0 % basic confidence interval is  (0.5897074825788143, 1.0912934825788143)\n",
      "A  95.0 % percentile confidence interval is  (0.4614555, 0.9630415)\n",
      "A  95.0 % normal confidence interval is  (0.5199033595040108, 1.045929215653618)\n"
     ]
    }
   ],
   "source": [
    "R = 2000 # number of bootstrap replicates;\n",
    "n = len(law.GPA) # sample size\n",
    "theta_b = [] # storage for boostrap estimates \n",
    "\n",
    "alpha = 0.05\n",
    "CL = 100*(1-alpha)\n",
    "\n",
    "for j in range(R):\n",
    "    i = choices(range(n),k = n)\n",
    "    LSATb = law.LSAT[i]\n",
    "    GPAb = law.GPA[i]\n",
    "    theta_b.append(round( np.corrcoef(LSATb,GPAb)[0, 1], ndigits = 5) )\n",
    "\n",
    "\n",
    "# BASIC CI:\n",
    "basic_CI = (2*theta_hat - np.quantile(theta_b, (1-alpha/2) ), \n",
    "            2*theta_hat - np.quantile(theta_b, alpha/2) )\n",
    "print(\"A \",CL,\"% basic confidence interval is \", basic_CI)\n",
    "\n",
    "# PERCENTILE CI:\n",
    "perc_CI = (np.quantile(theta_b, alpha/2), np. quantile(theta_b,(1-alpha/2)) )\n",
    "print(\"A \",CL,\"% percentile confidence interval is \", perc_CI)\n",
    "\n",
    "# NORMAL CI:\n",
    "z = scst.norm.ppf(1-alpha/2) # to get the quantile from standard normal.\n",
    "bias = st.mean(theta_b) - theta_hat\n",
    "se = np.std(theta_b) \n",
    "\n",
    "normal_CI = (theta_hat - bias - z*se, theta_hat - bias + z*se )\n",
    "\n",
    "print(\"A \",CL,\"% normal confidence interval is \", normal_CI )\n"
   ]
  }
 ],
 "metadata": {
  "kernelspec": {
   "display_name": "Python 3.9.12 ('base')",
   "language": "python",
   "name": "python3"
  },
  "language_info": {
   "codemirror_mode": {
    "name": "ipython",
    "version": 3
   },
   "file_extension": ".py",
   "mimetype": "text/x-python",
   "name": "python",
   "nbconvert_exporter": "python",
   "pygments_lexer": "ipython3",
   "version": "3.9.12"
  },
  "vscode": {
   "interpreter": {
    "hash": "0d2480363a66db5c618ac5289bd5a297b91670fc307834620070efc383813c9e"
   }
  }
 },
 "nbformat": 4,
 "nbformat_minor": 5
}
